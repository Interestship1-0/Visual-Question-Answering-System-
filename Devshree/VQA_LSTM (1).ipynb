{
  "nbformat": 4,
  "nbformat_minor": 0,
  "metadata": {
    "colab": {
      "name": "VQA_LSTM",
      "provenance": [],
      "collapsed_sections": []
    },
    "kernelspec": {
      "name": "python3",
      "display_name": "Python 3"
    }
  },
  "cells": [
    {
      "cell_type": "code",
      "metadata": {
        "id": "xz9vEtKq5e9E",
        "colab_type": "code",
        "colab": {}
      },
      "source": [
        "!git clone https://github.com/sominwadhwa/vqamd_floyd"
      ],
      "execution_count": null,
      "outputs": []
    },
    {
      "cell_type": "code",
      "metadata": {
        "id": "u9oUWvix5imB",
        "colab_type": "code",
        "colab": {}
      },
      "source": [
        "#%cd vqamd_floyd/\n",
        "!bash run_me_first_on_floyd.sh"
      ],
      "execution_count": null,
      "outputs": []
    },
    {
      "cell_type": "code",
      "metadata": {
        "id": "lqMbNtuM5s5d",
        "colab_type": "code",
        "colab": {}
      },
      "source": [
        "import sys, warnings\n",
        "warnings.filterwarnings(\"ignore\")\n",
        "from random import shuffle, sample\n",
        "import pickle as pk\n",
        "import gc\n",
        "\n",
        "import numpy as np\n",
        "import pandas as pd\n",
        "import scipy.io\n",
        "from keras.models import Sequential\n",
        "from keras.layers.core import Dense, Dropout, Activation\n",
        "from keras.optimizers import SGD\n",
        "from keras.utils import np_utils, generic_utils\n",
        "from progressbar import Bar, ETA, Percentage, ProgressBar    \n",
        "from keras.models import model_from_json\n",
        "from sklearn.preprocessing import LabelEncoder\n",
        "import spacy\n",
        "#from spacy.en import English\n",
        "import src\n",
        "from src.utils import *\n",
        "from src.features import *"
      ],
      "execution_count": null,
      "outputs": []
    },
    {
      "cell_type": "code",
      "metadata": {
        "id": "RgeDq8Ng_kDm",
        "colab_type": "code",
        "colab": {}
      },
      "source": [
        "!pip install src"
      ],
      "execution_count": null,
      "outputs": []
    },
    {
      "cell_type": "code",
      "metadata": {
        "id": "yyL8jsQQ7W6_",
        "colab_type": "code",
        "colab": {}
      },
      "source": [
        "!python -c \"import tensorflow as tf; print(tf.GIT_VERSION, tf.VERSION)\""
      ],
      "execution_count": null,
      "outputs": []
    },
    {
      "cell_type": "code",
      "metadata": {
        "id": "hjAeB6py51wa",
        "colab_type": "code",
        "colab": {}
      },
      "source": [
        "training_questions = open(\"preprocessed/v1/ques_train.txt\",\"rb\").read().decode('utf8').splitlines()\n",
        "answers_train      = open(\"preprocessed/v1/answer_train.txt\",\"rb\").read().decode('utf8').splitlines()\n",
        "images_train       = open(\"preprocessed/v1/images_coco_id.txt\",\"rb\").read().decode('utf8').splitlines()\n",
        "img_ids            = open('preprocessed/v1/coco_vgg_IDMap.txt').read().splitlines()\n",
        "vgg_path           = \"/content/vqamd_floyd/vgg_feats.mat\""
      ],
      "execution_count": null,
      "outputs": []
    },
    {
      "cell_type": "code",
      "metadata": {
        "id": "E89LdPvq55UP",
        "colab_type": "code",
        "colab": {}
      },
      "source": [
        "sample(list(zip(images_train, training_questions, answers_train)), 5)"
      ],
      "execution_count": null,
      "outputs": []
    },
    {
      "cell_type": "code",
      "metadata": {
        "id": "3JS8hmNv59ap",
        "colab_type": "code",
        "colab": {}
      },
      "source": [
        "#!python -m spacy download en_core_web_sm\n",
        "import spacy\n",
        "spacy.load('en_core_web_sm')\n",
        "print (\"Loaded WordVec\")"
      ],
      "execution_count": null,
      "outputs": []
    },
    {
      "cell_type": "code",
      "metadata": {
        "id": "Ve77dNQ-5_te",
        "colab_type": "code",
        "colab": {}
      },
      "source": [
        "%time vgg_features = scipy.io.loadmat('/content/vqamd_floyd/vgg_feats.mat')\n",
        "img_features = vgg_features['feats']\n",
        "id_map = dict()\n",
        "print (\"Loaded VGG Weights\")"
      ],
      "execution_count": null,
      "outputs": []
    },
    {
      "cell_type": "code",
      "metadata": {
        "id": "E-VRJ7bz6CIY",
        "colab_type": "code",
        "colab": {}
      },
      "source": [
        "gc.collect()"
      ],
      "execution_count": null,
      "outputs": []
    },
    {
      "cell_type": "code",
      "metadata": {
        "id": "M3Gb6JtT6D9V",
        "colab_type": "code",
        "colab": {}
      },
      "source": [
        "upper_lim = 1000 #Number of most frequently occurring answers in COCOVQA (Covering >80% of the total data)\n",
        "training_questions, answers_train, images_train = freq_answers(training_questions, \n",
        "                                                               answers_train, images_train, upper_lim)\n",
        "training_questions_len, training_questions, answers_train, images_train = (list(t) for t in zip(*sorted(zip(training_questions_len, \n",
        "                                                                                                          training_questions, answers_train, \n",
        "                                                                                                          images_train))))\n",
        "print (len(training_questions), len(answers_train),len(images_train))"
      ],
      "execution_count": null,
      "outputs": []
    },
    {
      "cell_type": "code",
      "metadata": {
        "id": "rsAxljPC6HA8",
        "colab_type": "code",
        "colab": {}
      },
      "source": [
        "lbl = LabelEncoder()\n",
        "lbl.fit(answers_train)\n",
        "nb_classes = len(list(lbl.classes_))\n",
        "pk.dump(lbl, open('preprocessed/v1/label_encoder_lstm.sav','wb'))"
      ],
      "execution_count": null,
      "outputs": []
    },
    {
      "cell_type": "code",
      "metadata": {
        "id": "bXEYVPdj6MI_",
        "colab_type": "code",
        "colab": {}
      },
      "source": [
        "batch_size               =      256\n",
        "img_dim                  =     4096\n",
        "word2vec_dim             =      300\n",
        "#max_len                 =       30 # Required only when using Fixed-Length Padding\n",
        "\n",
        "num_hidden_nodes_mlp     =     1024\n",
        "num_hidden_nodes_lstm    =      512\n",
        "num_layers_mlp           =        3\n",
        "num_layers_lstm          =        3\n",
        "dropout                  =       0.5\n",
        "activation_mlp           =     'tanh'"
      ],
      "execution_count": null,
      "outputs": []
    },
    {
      "cell_type": "code",
      "metadata": {
        "id": "yj-XU8Ep6uoc",
        "colab_type": "code",
        "colab": {}
      },
      "source": [
        "# Change the following based on your usage, THESE WILL DIRECTLY AFFECT THE DURATION OF NETWORK TRAINING\n",
        "num_epochs               =         300 \n",
        "log_interval             =         15"
      ],
      "execution_count": null,
      "outputs": []
    },
    {
      "cell_type": "code",
      "metadata": {
        "id": "sD0LOw596xII",
        "colab_type": "code",
        "colab": {}
      },
      "source": [
        "for ids in img_ids:\n",
        "    id_split = ids.split()\n",
        "    id_map[id_split[0]] = int(id_split[1])"
      ],
      "execution_count": null,
      "outputs": []
    },
    {
      "cell_type": "code",
      "metadata": {
        "id": "8NJJ3Q1HE9Hw",
        "colab_type": "code",
        "colab": {}
      },
      "source": [
        "image_model = Sequential()\n",
        "image_model.add(Reshape(input_shape = (img_dim,), target_shape=(img_dim,)))\n",
        "image_model.summary()"
      ],
      "execution_count": null,
      "outputs": []
    },
    {
      "cell_type": "code",
      "metadata": {
        "id": "HyLLSlSm6zuE",
        "colab_type": "code",
        "colab": {}
      },
      "source": [
        "language_model = Sequential()\n",
        "language_model.add(LSTM(output_dim=num_hidden_nodes_lstm, \n",
        "                        return_sequences=True, input_shape=(None, word2vec_dim)))\n",
        "\n",
        "for i in range(num_layers_lstm-2):\n",
        "    language_model.add(LSTM(output_dim=num_hidden_nodes_lstm, return_sequences=True))\n",
        "language_model.add(LSTM(output_dim=num_hidden_nodes_lstm, return_sequences=False))\n",
        "\n",
        "language_model.summary()"
      ],
      "execution_count": null,
      "outputs": []
    },
    {
      "cell_type": "code",
      "metadata": {
        "id": "y78WpfCGFDDq",
        "colab_type": "code",
        "colab": {}
      },
      "source": [
        "model = Sequential()\n",
        "model.add(Merge([language_model, image_model], mode='concat', concat_axis=1))\n",
        "for i in range(num_layers_mlp):\n",
        "    model.add(Dense(num_hidden_nodes_mlp, init='uniform'))\n",
        "    model.add(Activation('tanh'))\n",
        "    model.add(Dropout(0.5))\n",
        "model.add(Dense(upper_lim))\n",
        "model.add(Activation(\"softmax\"))"
      ],
      "execution_count": null,
      "outputs": []
    },
    {
      "cell_type": "code",
      "metadata": {
        "id": "N9c2zIJV62VZ",
        "colab_type": "code",
        "colab": {}
      },
      "source": [
        "model_dump = model.to_json()\n",
        "open('lstm_structure'  + '.json', 'w').write(model_dump)"
      ],
      "execution_count": null,
      "outputs": []
    },
    {
      "cell_type": "code",
      "metadata": {
        "id": "K-fAUbB2FHQV",
        "colab_type": "code",
        "colab": {}
      },
      "source": [
        "model.compile(loss='categorical_crossentropy', optimizer='rmsprop')\n",
        "model.summary()"
      ],
      "execution_count": null,
      "outputs": []
    },
    {
      "cell_type": "code",
      "metadata": {
        "id": "7dpTM6Bi643M",
        "colab_type": "code",
        "colab": {}
      },
      "source": [
        "for k in range(num_epochs):\n",
        "    progbar = generic_utils.Progbar(len(training_questions))\n",
        "    for ques_batch, ans_batch, im_batch in zip(grouped(training_questions, batch_size, \n",
        "                                                       fillvalue=training_questions[-1]), \n",
        "                                               grouped(answers_train, batch_size, \n",
        "                                                       fillvalue=answers_train[-1]), \n",
        "                                               grouped(images_train, batch_size, fillvalue=images_train[-1])):\n",
        "        timestep = len(nlp(ques_batch[-1]))\n",
        "        X_ques_batch = get_questions_tensor_timeseries(ques_batch, nlp, timestep)\n",
        "        #print (X_ques_batch.shape)\n",
        "        X_img_batch = get_images_matrix(im_batch, id_map, img_features)\n",
        "        Y_batch = get_answers_sum(ans_batch, lbl)\n",
        "        loss = model.train_on_batch([X_ques_batch, X_img_batch], Y_batch)\n",
        "        progbar.add(batch_size, values=[('train loss', loss)])\n",
        "    if k%log_interval == 0:\n",
        "        model.save_weights(\"weights/LSTM\" + \"_epoch_{:02d}.hdf5\".format(k))\n",
        "model.save_weights(\"weights/LSTM\" + \"_epoch_{:02d}.hdf5\".format(k))"
      ],
      "execution_count": null,
      "outputs": []
    },
    {
      "cell_type": "code",
      "metadata": {
        "id": "vKiwgYcd68rY",
        "colab_type": "code",
        "colab": {}
      },
      "source": [
        "model = model_from_json(open('lstm_structure.json').read()) #fully trained model & weights present at /floyd/input/vqa_data/weights/\n",
        "# In case you wish to evaluate the model you just trained, uncomment the following line of code & comment out the subsequent one -\n",
        "#model.load_weights('weights/LSTM_epoch_00.hdf5')\n",
        "model.load_weights('/floyd/input/vqa_data/weights/LSTM_epoch_45.hdf5')\n",
        "model.compile(loss='categorical_crossentropy', optimizer='rmsprop')\n",
        "\n",
        "print (\"Model Loaded with Weights\")\n",
        "model.summary()"
      ],
      "execution_count": null,
      "outputs": []
    },
    {
      "cell_type": "code",
      "metadata": {
        "id": "CusnKVjN7B3G",
        "colab_type": "code",
        "colab": {}
      },
      "source": [
        "val_imgs = open('preprocessed/v1/val_images_coco_id.txt','rb').read().decode('utf-8').splitlines()\n",
        "val_ques = open('preprocessed/v1/ques_val.txt','rb').read().decode('utf-8').splitlines()\n",
        "val_ans  = open('preprocessed/v1/answer_val.txt','rb').read().decode('utf-8').splitlines()"
      ],
      "execution_count": null,
      "outputs": []
    },
    {
      "cell_type": "code",
      "metadata": {
        "id": "aWN7Os9K7Car",
        "colab_type": "code",
        "colab": {}
      },
      "source": [
        "label_encoder = pk.load(open('preprocessed/v1/label_encoder_lstm.sav','rb'))"
      ],
      "execution_count": null,
      "outputs": []
    },
    {
      "cell_type": "code",
      "metadata": {
        "id": "luUzmJNGDcVT",
        "colab_type": "code",
        "colab": {}
      },
      "source": [
        "y_pred = []\n",
        "batch_size = 128 \n",
        "\n",
        "#print (\"Word2Vec Loaded!\")\n",
        "\n",
        "widgets = ['Evaluating ', Percentage(), ' ', Bar(marker='#',left='[',right=']'), ' ', ETA()]\n",
        "pbar = ProgressBar(widgets=widgets)"
      ],
      "execution_count": null,
      "outputs": []
    },
    {
      "cell_type": "code",
      "metadata": {
        "id": "qWO3LSkpDi5k",
        "colab_type": "code",
        "colab": {}
      },
      "source": [
        "for qu_batch,an_batch,im_batch in pbar(zip(grouped(val_ques, batch_size, \n",
        "                                                   fillvalue=val_ques[0]), \n",
        "                                           grouped(val_ans, batch_size, \n",
        "                                                   fillvalue=val_ans[0]), \n",
        "                                           grouped(val_imgs, batch_size, \n",
        "                                                   fillvalue=val_imgs[0]))):\n",
        "    timesteps = len(nlp(qu_batch[-1]))\n",
        "    X_ques_batch = get_questions_tensor_timeseries(qu_batch, nlp, timesteps)\n",
        "    X_i_batch = get_images_matrix(im_batch, id_map, img_features)\n",
        "    X_batch = [X_ques_batch, X_i_batch]\n",
        "    y_predict = model.predict_classes(X_batch, verbose=0)\n",
        "    y_pred.extend(label_encoder.inverse_transform(y_predict))"
      ],
      "execution_count": null,
      "outputs": []
    },
    {
      "cell_type": "code",
      "metadata": {
        "id": "k1OsG-sCDlCy",
        "colab_type": "code",
        "colab": {}
      },
      "source": [
        "correct_val = 0.0\n",
        "total = 0\n",
        "f1 = open('res.txt','w')\n",
        "\n",
        "for pred, truth, ques, img in zip(y_pred, val_ans, val_ques, val_imgs):\n",
        "    t_count = 0\n",
        "    for _truth in truth.split(';'):\n",
        "        if pred == truth:\n",
        "            t_count += 1 \n",
        "    if t_count >=1:\n",
        "        correct_val +=1\n",
        "    else:\n",
        "        correct_val += float(t_count)/3\n",
        "\n",
        "    total +=1\n",
        "\n",
        "    try:\n",
        "        f1.write(str(ques))\n",
        "        f1.write('\\n')\n",
        "        f1.write(str(img))\n",
        "        f1.write('\\n')\n",
        "        f1.write(str(pred))\n",
        "        f1.write('\\n')\n",
        "        f1.write(str(truth))\n",
        "        f1.write('\\n')\n",
        "        f1.write('\\n')\n",
        "    except:\n",
        "        pass\n",
        "\n",
        "print (\"Accuracy: \", round((correct_val/total)*100,2))\n",
        "#f1.write('Final Accuracy is ' + str(round(correct_val/total),2))\n",
        "f1.close()"
      ],
      "execution_count": null,
      "outputs": []
    },
    {
      "cell_type": "code",
      "metadata": {
        "id": "p0AxuI1KDoKD",
        "colab_type": "code",
        "colab": {}
      },
      "source": [
        "%cd src"
      ],
      "execution_count": null,
      "outputs": []
    },
    {
      "cell_type": "code",
      "metadata": {
        "id": "Y1zzVzDwDs3I",
        "colab_type": "code",
        "colab": {}
      },
      "source": [
        "!python test.py"
      ],
      "execution_count": null,
      "outputs": []
    }
  ]
}